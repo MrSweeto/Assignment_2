{
 "cells": [
  {
   "cell_type": "markdown",
   "metadata": {},
   "source": [
    "# Import Libraries and Dataset"
   ]
  },
  {
   "cell_type": "code",
   "execution_count": 5,
   "metadata": {
    "execution": {
     "iopub.execute_input": "2022-07-15T08:46:29.911366Z",
     "iopub.status.busy": "2022-07-15T08:46:29.910852Z",
     "iopub.status.idle": "2022-07-15T08:46:29.935804Z",
     "shell.execute_reply": "2022-07-15T08:46:29.934644Z",
     "shell.execute_reply.started": "2022-07-15T08:46:29.911323Z"
    }
   },
   "outputs": [],
   "source": [
    "import numpy as np\n",
    "import pandas as pd\n",
    "import matplotlib.pyplot as plt\n",
    "%matplotlib inline\n",
    "import seaborn as sns"
   ]
  },
  {
   "cell_type": "code",
   "execution_count": 11,
   "metadata": {
    "execution": {
     "iopub.execute_input": "2022-07-15T08:46:29.938362Z",
     "iopub.status.busy": "2022-07-15T08:46:29.937931Z",
     "iopub.status.idle": "2022-07-15T08:46:29.95287Z",
     "shell.execute_reply": "2022-07-15T08:46:29.951696Z",
     "shell.execute_reply.started": "2022-07-15T08:46:29.938321Z"
    }
   },
   "outputs": [],
   "source": [
    "salary = pandas.read_csv('C:/Users/HamzaArham/Downloads/DataSet_OF_Salaries.csv')"
   ]
  },
  {
   "cell_type": "code",
   "execution_count": 10,
   "metadata": {
    "execution": {
     "iopub.execute_input": "2022-07-15T08:46:29.955824Z",
     "iopub.status.busy": "2022-07-15T08:46:29.955026Z",
     "iopub.status.idle": "2022-07-15T08:46:29.980797Z",
     "shell.execute_reply": "2022-07-15T08:46:29.97982Z",
     "shell.execute_reply.started": "2022-07-15T08:46:29.955622Z"
    },
    "scrolled": true
   },
   "outputs": [
    {
     "data": {
      "text/html": [
       "<div>\n",
       "<style scoped>\n",
       "    .dataframe tbody tr th:only-of-type {\n",
       "        vertical-align: middle;\n",
       "    }\n",
       "\n",
       "    .dataframe tbody tr th {\n",
       "        vertical-align: top;\n",
       "    }\n",
       "\n",
       "    .dataframe thead th {\n",
       "        text-align: right;\n",
       "    }\n",
       "</style>\n",
       "<table border=\"1\" class=\"dataframe\">\n",
       "  <thead>\n",
       "    <tr style=\"text-align: right;\">\n",
       "      <th></th>\n",
       "      <th>Unnamed: 0</th>\n",
       "      <th>work_year</th>\n",
       "      <th>experience_level</th>\n",
       "      <th>employment_type</th>\n",
       "      <th>job_title</th>\n",
       "      <th>salary</th>\n",
       "      <th>salary_currency</th>\n",
       "      <th>salary_in_usd</th>\n",
       "      <th>employee_residence</th>\n",
       "      <th>remote_ratio</th>\n",
       "      <th>company_location</th>\n",
       "      <th>company_size</th>\n",
       "    </tr>\n",
       "  </thead>\n",
       "  <tbody>\n",
       "    <tr>\n",
       "      <th>0</th>\n",
       "      <td>0</td>\n",
       "      <td>2020</td>\n",
       "      <td>MI</td>\n",
       "      <td>FT</td>\n",
       "      <td>Data Scientist</td>\n",
       "      <td>70000</td>\n",
       "      <td>EUR</td>\n",
       "      <td>79833</td>\n",
       "      <td>DE</td>\n",
       "      <td>0</td>\n",
       "      <td>DE</td>\n",
       "      <td>L</td>\n",
       "    </tr>\n",
       "    <tr>\n",
       "      <th>1</th>\n",
       "      <td>1</td>\n",
       "      <td>2020</td>\n",
       "      <td>SE</td>\n",
       "      <td>FT</td>\n",
       "      <td>Machine Learning Scientist</td>\n",
       "      <td>260000</td>\n",
       "      <td>USD</td>\n",
       "      <td>260000</td>\n",
       "      <td>JP</td>\n",
       "      <td>0</td>\n",
       "      <td>JP</td>\n",
       "      <td>S</td>\n",
       "    </tr>\n",
       "    <tr>\n",
       "      <th>2</th>\n",
       "      <td>2</td>\n",
       "      <td>2020</td>\n",
       "      <td>SE</td>\n",
       "      <td>FT</td>\n",
       "      <td>Big Data Engineer</td>\n",
       "      <td>85000</td>\n",
       "      <td>GBP</td>\n",
       "      <td>109024</td>\n",
       "      <td>GB</td>\n",
       "      <td>50</td>\n",
       "      <td>GB</td>\n",
       "      <td>M</td>\n",
       "    </tr>\n",
       "    <tr>\n",
       "      <th>3</th>\n",
       "      <td>3</td>\n",
       "      <td>2020</td>\n",
       "      <td>MI</td>\n",
       "      <td>FT</td>\n",
       "      <td>Product Data Analyst</td>\n",
       "      <td>20000</td>\n",
       "      <td>USD</td>\n",
       "      <td>20000</td>\n",
       "      <td>HN</td>\n",
       "      <td>0</td>\n",
       "      <td>HN</td>\n",
       "      <td>S</td>\n",
       "    </tr>\n",
       "    <tr>\n",
       "      <th>4</th>\n",
       "      <td>4</td>\n",
       "      <td>2020</td>\n",
       "      <td>SE</td>\n",
       "      <td>FT</td>\n",
       "      <td>Machine Learning Engineer</td>\n",
       "      <td>150000</td>\n",
       "      <td>USD</td>\n",
       "      <td>150000</td>\n",
       "      <td>US</td>\n",
       "      <td>50</td>\n",
       "      <td>US</td>\n",
       "      <td>L</td>\n",
       "    </tr>\n",
       "    <tr>\n",
       "      <th>5</th>\n",
       "      <td>5</td>\n",
       "      <td>2020</td>\n",
       "      <td>EN</td>\n",
       "      <td>FT</td>\n",
       "      <td>Data Analyst</td>\n",
       "      <td>72000</td>\n",
       "      <td>USD</td>\n",
       "      <td>72000</td>\n",
       "      <td>US</td>\n",
       "      <td>100</td>\n",
       "      <td>US</td>\n",
       "      <td>L</td>\n",
       "    </tr>\n",
       "    <tr>\n",
       "      <th>6</th>\n",
       "      <td>6</td>\n",
       "      <td>2020</td>\n",
       "      <td>SE</td>\n",
       "      <td>FT</td>\n",
       "      <td>Lead Data Scientist</td>\n",
       "      <td>190000</td>\n",
       "      <td>USD</td>\n",
       "      <td>190000</td>\n",
       "      <td>US</td>\n",
       "      <td>100</td>\n",
       "      <td>US</td>\n",
       "      <td>S</td>\n",
       "    </tr>\n",
       "    <tr>\n",
       "      <th>7</th>\n",
       "      <td>7</td>\n",
       "      <td>2020</td>\n",
       "      <td>MI</td>\n",
       "      <td>FT</td>\n",
       "      <td>Data Scientist</td>\n",
       "      <td>11000000</td>\n",
       "      <td>HUF</td>\n",
       "      <td>35735</td>\n",
       "      <td>HU</td>\n",
       "      <td>50</td>\n",
       "      <td>HU</td>\n",
       "      <td>L</td>\n",
       "    </tr>\n",
       "    <tr>\n",
       "      <th>8</th>\n",
       "      <td>8</td>\n",
       "      <td>2020</td>\n",
       "      <td>MI</td>\n",
       "      <td>FT</td>\n",
       "      <td>Business Data Analyst</td>\n",
       "      <td>135000</td>\n",
       "      <td>USD</td>\n",
       "      <td>135000</td>\n",
       "      <td>US</td>\n",
       "      <td>100</td>\n",
       "      <td>US</td>\n",
       "      <td>L</td>\n",
       "    </tr>\n",
       "    <tr>\n",
       "      <th>9</th>\n",
       "      <td>9</td>\n",
       "      <td>2020</td>\n",
       "      <td>SE</td>\n",
       "      <td>FT</td>\n",
       "      <td>Lead Data Engineer</td>\n",
       "      <td>125000</td>\n",
       "      <td>USD</td>\n",
       "      <td>125000</td>\n",
       "      <td>NZ</td>\n",
       "      <td>50</td>\n",
       "      <td>NZ</td>\n",
       "      <td>S</td>\n",
       "    </tr>\n",
       "    <tr>\n",
       "      <th>10</th>\n",
       "      <td>10</td>\n",
       "      <td>2020</td>\n",
       "      <td>EN</td>\n",
       "      <td>FT</td>\n",
       "      <td>Data Scientist</td>\n",
       "      <td>45000</td>\n",
       "      <td>EUR</td>\n",
       "      <td>51321</td>\n",
       "      <td>FR</td>\n",
       "      <td>0</td>\n",
       "      <td>FR</td>\n",
       "      <td>S</td>\n",
       "    </tr>\n",
       "    <tr>\n",
       "      <th>11</th>\n",
       "      <td>11</td>\n",
       "      <td>2020</td>\n",
       "      <td>MI</td>\n",
       "      <td>FT</td>\n",
       "      <td>Data Scientist</td>\n",
       "      <td>3000000</td>\n",
       "      <td>INR</td>\n",
       "      <td>40481</td>\n",
       "      <td>IN</td>\n",
       "      <td>0</td>\n",
       "      <td>IN</td>\n",
       "      <td>L</td>\n",
       "    </tr>\n",
       "    <tr>\n",
       "      <th>12</th>\n",
       "      <td>12</td>\n",
       "      <td>2020</td>\n",
       "      <td>EN</td>\n",
       "      <td>FT</td>\n",
       "      <td>Data Scientist</td>\n",
       "      <td>35000</td>\n",
       "      <td>EUR</td>\n",
       "      <td>39916</td>\n",
       "      <td>FR</td>\n",
       "      <td>0</td>\n",
       "      <td>FR</td>\n",
       "      <td>M</td>\n",
       "    </tr>\n",
       "    <tr>\n",
       "      <th>13</th>\n",
       "      <td>13</td>\n",
       "      <td>2020</td>\n",
       "      <td>MI</td>\n",
       "      <td>FT</td>\n",
       "      <td>Lead Data Analyst</td>\n",
       "      <td>87000</td>\n",
       "      <td>USD</td>\n",
       "      <td>87000</td>\n",
       "      <td>US</td>\n",
       "      <td>100</td>\n",
       "      <td>US</td>\n",
       "      <td>L</td>\n",
       "    </tr>\n",
       "    <tr>\n",
       "      <th>14</th>\n",
       "      <td>14</td>\n",
       "      <td>2020</td>\n",
       "      <td>MI</td>\n",
       "      <td>FT</td>\n",
       "      <td>Data Analyst</td>\n",
       "      <td>85000</td>\n",
       "      <td>USD</td>\n",
       "      <td>85000</td>\n",
       "      <td>US</td>\n",
       "      <td>100</td>\n",
       "      <td>US</td>\n",
       "      <td>L</td>\n",
       "    </tr>\n",
       "    <tr>\n",
       "      <th>15</th>\n",
       "      <td>15</td>\n",
       "      <td>2020</td>\n",
       "      <td>MI</td>\n",
       "      <td>FT</td>\n",
       "      <td>Data Analyst</td>\n",
       "      <td>8000</td>\n",
       "      <td>USD</td>\n",
       "      <td>8000</td>\n",
       "      <td>PK</td>\n",
       "      <td>50</td>\n",
       "      <td>PK</td>\n",
       "      <td>L</td>\n",
       "    </tr>\n",
       "    <tr>\n",
       "      <th>16</th>\n",
       "      <td>16</td>\n",
       "      <td>2020</td>\n",
       "      <td>EN</td>\n",
       "      <td>FT</td>\n",
       "      <td>Data Engineer</td>\n",
       "      <td>4450000</td>\n",
       "      <td>JPY</td>\n",
       "      <td>41689</td>\n",
       "      <td>JP</td>\n",
       "      <td>100</td>\n",
       "      <td>JP</td>\n",
       "      <td>S</td>\n",
       "    </tr>\n",
       "    <tr>\n",
       "      <th>17</th>\n",
       "      <td>17</td>\n",
       "      <td>2020</td>\n",
       "      <td>SE</td>\n",
       "      <td>FT</td>\n",
       "      <td>Big Data Engineer</td>\n",
       "      <td>100000</td>\n",
       "      <td>EUR</td>\n",
       "      <td>114047</td>\n",
       "      <td>PL</td>\n",
       "      <td>100</td>\n",
       "      <td>GB</td>\n",
       "      <td>S</td>\n",
       "    </tr>\n",
       "    <tr>\n",
       "      <th>18</th>\n",
       "      <td>18</td>\n",
       "      <td>2020</td>\n",
       "      <td>EN</td>\n",
       "      <td>FT</td>\n",
       "      <td>Data Science Consultant</td>\n",
       "      <td>423000</td>\n",
       "      <td>INR</td>\n",
       "      <td>5707</td>\n",
       "      <td>IN</td>\n",
       "      <td>50</td>\n",
       "      <td>IN</td>\n",
       "      <td>M</td>\n",
       "    </tr>\n",
       "    <tr>\n",
       "      <th>19</th>\n",
       "      <td>19</td>\n",
       "      <td>2020</td>\n",
       "      <td>MI</td>\n",
       "      <td>FT</td>\n",
       "      <td>Lead Data Engineer</td>\n",
       "      <td>56000</td>\n",
       "      <td>USD</td>\n",
       "      <td>56000</td>\n",
       "      <td>PT</td>\n",
       "      <td>100</td>\n",
       "      <td>US</td>\n",
       "      <td>M</td>\n",
       "    </tr>\n",
       "    <tr>\n",
       "      <th>20</th>\n",
       "      <td>20</td>\n",
       "      <td>2020</td>\n",
       "      <td>MI</td>\n",
       "      <td>FT</td>\n",
       "      <td>Machine Learning Engineer</td>\n",
       "      <td>299000</td>\n",
       "      <td>CNY</td>\n",
       "      <td>43331</td>\n",
       "      <td>CN</td>\n",
       "      <td>0</td>\n",
       "      <td>CN</td>\n",
       "      <td>M</td>\n",
       "    </tr>\n",
       "    <tr>\n",
       "      <th>21</th>\n",
       "      <td>21</td>\n",
       "      <td>2020</td>\n",
       "      <td>MI</td>\n",
       "      <td>FT</td>\n",
       "      <td>Product Data Analyst</td>\n",
       "      <td>450000</td>\n",
       "      <td>INR</td>\n",
       "      <td>6072</td>\n",
       "      <td>IN</td>\n",
       "      <td>100</td>\n",
       "      <td>IN</td>\n",
       "      <td>L</td>\n",
       "    </tr>\n",
       "    <tr>\n",
       "      <th>22</th>\n",
       "      <td>22</td>\n",
       "      <td>2020</td>\n",
       "      <td>SE</td>\n",
       "      <td>FT</td>\n",
       "      <td>Data Engineer</td>\n",
       "      <td>42000</td>\n",
       "      <td>EUR</td>\n",
       "      <td>47899</td>\n",
       "      <td>GR</td>\n",
       "      <td>50</td>\n",
       "      <td>GR</td>\n",
       "      <td>L</td>\n",
       "    </tr>\n",
       "    <tr>\n",
       "      <th>23</th>\n",
       "      <td>23</td>\n",
       "      <td>2020</td>\n",
       "      <td>MI</td>\n",
       "      <td>FT</td>\n",
       "      <td>BI Data Analyst</td>\n",
       "      <td>98000</td>\n",
       "      <td>USD</td>\n",
       "      <td>98000</td>\n",
       "      <td>US</td>\n",
       "      <td>0</td>\n",
       "      <td>US</td>\n",
       "      <td>M</td>\n",
       "    </tr>\n",
       "    <tr>\n",
       "      <th>24</th>\n",
       "      <td>24</td>\n",
       "      <td>2020</td>\n",
       "      <td>MI</td>\n",
       "      <td>FT</td>\n",
       "      <td>Lead Data Scientist</td>\n",
       "      <td>115000</td>\n",
       "      <td>USD</td>\n",
       "      <td>115000</td>\n",
       "      <td>AE</td>\n",
       "      <td>0</td>\n",
       "      <td>AE</td>\n",
       "      <td>L</td>\n",
       "    </tr>\n",
       "    <tr>\n",
       "      <th>25</th>\n",
       "      <td>25</td>\n",
       "      <td>2020</td>\n",
       "      <td>EX</td>\n",
       "      <td>FT</td>\n",
       "      <td>Director of Data Science</td>\n",
       "      <td>325000</td>\n",
       "      <td>USD</td>\n",
       "      <td>325000</td>\n",
       "      <td>US</td>\n",
       "      <td>100</td>\n",
       "      <td>US</td>\n",
       "      <td>L</td>\n",
       "    </tr>\n",
       "    <tr>\n",
       "      <th>26</th>\n",
       "      <td>26</td>\n",
       "      <td>2020</td>\n",
       "      <td>EN</td>\n",
       "      <td>FT</td>\n",
       "      <td>Research Scientist</td>\n",
       "      <td>42000</td>\n",
       "      <td>USD</td>\n",
       "      <td>42000</td>\n",
       "      <td>NL</td>\n",
       "      <td>50</td>\n",
       "      <td>NL</td>\n",
       "      <td>L</td>\n",
       "    </tr>\n",
       "    <tr>\n",
       "      <th>27</th>\n",
       "      <td>27</td>\n",
       "      <td>2020</td>\n",
       "      <td>SE</td>\n",
       "      <td>FT</td>\n",
       "      <td>Data Engineer</td>\n",
       "      <td>720000</td>\n",
       "      <td>MXN</td>\n",
       "      <td>33511</td>\n",
       "      <td>MX</td>\n",
       "      <td>0</td>\n",
       "      <td>MX</td>\n",
       "      <td>S</td>\n",
       "    </tr>\n",
       "    <tr>\n",
       "      <th>28</th>\n",
       "      <td>28</td>\n",
       "      <td>2020</td>\n",
       "      <td>EN</td>\n",
       "      <td>CT</td>\n",
       "      <td>Business Data Analyst</td>\n",
       "      <td>100000</td>\n",
       "      <td>USD</td>\n",
       "      <td>100000</td>\n",
       "      <td>US</td>\n",
       "      <td>100</td>\n",
       "      <td>US</td>\n",
       "      <td>L</td>\n",
       "    </tr>\n",
       "    <tr>\n",
       "      <th>29</th>\n",
       "      <td>29</td>\n",
       "      <td>2020</td>\n",
       "      <td>SE</td>\n",
       "      <td>FT</td>\n",
       "      <td>Machine Learning Manager</td>\n",
       "      <td>157000</td>\n",
       "      <td>CAD</td>\n",
       "      <td>117104</td>\n",
       "      <td>CA</td>\n",
       "      <td>50</td>\n",
       "      <td>CA</td>\n",
       "      <td>L</td>\n",
       "    </tr>\n",
       "    <tr>\n",
       "      <th>...</th>\n",
       "      <td>...</td>\n",
       "      <td>...</td>\n",
       "      <td>...</td>\n",
       "      <td>...</td>\n",
       "      <td>...</td>\n",
       "      <td>...</td>\n",
       "      <td>...</td>\n",
       "      <td>...</td>\n",
       "      <td>...</td>\n",
       "      <td>...</td>\n",
       "      <td>...</td>\n",
       "      <td>...</td>\n",
       "    </tr>\n",
       "    <tr>\n",
       "      <th>577</th>\n",
       "      <td>577</td>\n",
       "      <td>2022</td>\n",
       "      <td>SE</td>\n",
       "      <td>FT</td>\n",
       "      <td>Data Analyst</td>\n",
       "      <td>150075</td>\n",
       "      <td>USD</td>\n",
       "      <td>150075</td>\n",
       "      <td>US</td>\n",
       "      <td>100</td>\n",
       "      <td>US</td>\n",
       "      <td>M</td>\n",
       "    </tr>\n",
       "    <tr>\n",
       "      <th>578</th>\n",
       "      <td>578</td>\n",
       "      <td>2022</td>\n",
       "      <td>SE</td>\n",
       "      <td>FT</td>\n",
       "      <td>Data Engineer</td>\n",
       "      <td>100000</td>\n",
       "      <td>USD</td>\n",
       "      <td>100000</td>\n",
       "      <td>US</td>\n",
       "      <td>100</td>\n",
       "      <td>US</td>\n",
       "      <td>M</td>\n",
       "    </tr>\n",
       "    <tr>\n",
       "      <th>579</th>\n",
       "      <td>579</td>\n",
       "      <td>2022</td>\n",
       "      <td>SE</td>\n",
       "      <td>FT</td>\n",
       "      <td>Data Engineer</td>\n",
       "      <td>25000</td>\n",
       "      <td>USD</td>\n",
       "      <td>25000</td>\n",
       "      <td>US</td>\n",
       "      <td>100</td>\n",
       "      <td>US</td>\n",
       "      <td>M</td>\n",
       "    </tr>\n",
       "    <tr>\n",
       "      <th>580</th>\n",
       "      <td>580</td>\n",
       "      <td>2022</td>\n",
       "      <td>SE</td>\n",
       "      <td>FT</td>\n",
       "      <td>Data Analyst</td>\n",
       "      <td>126500</td>\n",
       "      <td>USD</td>\n",
       "      <td>126500</td>\n",
       "      <td>US</td>\n",
       "      <td>100</td>\n",
       "      <td>US</td>\n",
       "      <td>M</td>\n",
       "    </tr>\n",
       "    <tr>\n",
       "      <th>581</th>\n",
       "      <td>581</td>\n",
       "      <td>2022</td>\n",
       "      <td>SE</td>\n",
       "      <td>FT</td>\n",
       "      <td>Data Analyst</td>\n",
       "      <td>106260</td>\n",
       "      <td>USD</td>\n",
       "      <td>106260</td>\n",
       "      <td>US</td>\n",
       "      <td>100</td>\n",
       "      <td>US</td>\n",
       "      <td>M</td>\n",
       "    </tr>\n",
       "    <tr>\n",
       "      <th>582</th>\n",
       "      <td>582</td>\n",
       "      <td>2022</td>\n",
       "      <td>SE</td>\n",
       "      <td>FT</td>\n",
       "      <td>Data Engineer</td>\n",
       "      <td>220110</td>\n",
       "      <td>USD</td>\n",
       "      <td>220110</td>\n",
       "      <td>US</td>\n",
       "      <td>100</td>\n",
       "      <td>US</td>\n",
       "      <td>M</td>\n",
       "    </tr>\n",
       "    <tr>\n",
       "      <th>583</th>\n",
       "      <td>583</td>\n",
       "      <td>2022</td>\n",
       "      <td>SE</td>\n",
       "      <td>FT</td>\n",
       "      <td>Data Engineer</td>\n",
       "      <td>160080</td>\n",
       "      <td>USD</td>\n",
       "      <td>160080</td>\n",
       "      <td>US</td>\n",
       "      <td>100</td>\n",
       "      <td>US</td>\n",
       "      <td>M</td>\n",
       "    </tr>\n",
       "    <tr>\n",
       "      <th>584</th>\n",
       "      <td>584</td>\n",
       "      <td>2022</td>\n",
       "      <td>SE</td>\n",
       "      <td>FT</td>\n",
       "      <td>Data Analyst</td>\n",
       "      <td>105000</td>\n",
       "      <td>USD</td>\n",
       "      <td>105000</td>\n",
       "      <td>US</td>\n",
       "      <td>100</td>\n",
       "      <td>US</td>\n",
       "      <td>M</td>\n",
       "    </tr>\n",
       "    <tr>\n",
       "      <th>585</th>\n",
       "      <td>585</td>\n",
       "      <td>2022</td>\n",
       "      <td>SE</td>\n",
       "      <td>FT</td>\n",
       "      <td>Data Analyst</td>\n",
       "      <td>110925</td>\n",
       "      <td>USD</td>\n",
       "      <td>110925</td>\n",
       "      <td>US</td>\n",
       "      <td>100</td>\n",
       "      <td>US</td>\n",
       "      <td>M</td>\n",
       "    </tr>\n",
       "    <tr>\n",
       "      <th>586</th>\n",
       "      <td>586</td>\n",
       "      <td>2022</td>\n",
       "      <td>MI</td>\n",
       "      <td>FT</td>\n",
       "      <td>Data Analyst</td>\n",
       "      <td>35000</td>\n",
       "      <td>GBP</td>\n",
       "      <td>45807</td>\n",
       "      <td>GB</td>\n",
       "      <td>0</td>\n",
       "      <td>GB</td>\n",
       "      <td>M</td>\n",
       "    </tr>\n",
       "    <tr>\n",
       "      <th>587</th>\n",
       "      <td>587</td>\n",
       "      <td>2022</td>\n",
       "      <td>SE</td>\n",
       "      <td>FT</td>\n",
       "      <td>Data Scientist</td>\n",
       "      <td>140000</td>\n",
       "      <td>USD</td>\n",
       "      <td>140000</td>\n",
       "      <td>US</td>\n",
       "      <td>100</td>\n",
       "      <td>US</td>\n",
       "      <td>M</td>\n",
       "    </tr>\n",
       "    <tr>\n",
       "      <th>588</th>\n",
       "      <td>588</td>\n",
       "      <td>2022</td>\n",
       "      <td>SE</td>\n",
       "      <td>FT</td>\n",
       "      <td>Data Analyst</td>\n",
       "      <td>99000</td>\n",
       "      <td>USD</td>\n",
       "      <td>99000</td>\n",
       "      <td>US</td>\n",
       "      <td>0</td>\n",
       "      <td>US</td>\n",
       "      <td>M</td>\n",
       "    </tr>\n",
       "    <tr>\n",
       "      <th>589</th>\n",
       "      <td>589</td>\n",
       "      <td>2022</td>\n",
       "      <td>SE</td>\n",
       "      <td>FT</td>\n",
       "      <td>Data Analyst</td>\n",
       "      <td>60000</td>\n",
       "      <td>USD</td>\n",
       "      <td>60000</td>\n",
       "      <td>US</td>\n",
       "      <td>100</td>\n",
       "      <td>US</td>\n",
       "      <td>M</td>\n",
       "    </tr>\n",
       "    <tr>\n",
       "      <th>590</th>\n",
       "      <td>590</td>\n",
       "      <td>2022</td>\n",
       "      <td>SE</td>\n",
       "      <td>FT</td>\n",
       "      <td>Data Architect</td>\n",
       "      <td>192564</td>\n",
       "      <td>USD</td>\n",
       "      <td>192564</td>\n",
       "      <td>US</td>\n",
       "      <td>100</td>\n",
       "      <td>US</td>\n",
       "      <td>M</td>\n",
       "    </tr>\n",
       "    <tr>\n",
       "      <th>591</th>\n",
       "      <td>591</td>\n",
       "      <td>2022</td>\n",
       "      <td>SE</td>\n",
       "      <td>FT</td>\n",
       "      <td>Data Architect</td>\n",
       "      <td>144854</td>\n",
       "      <td>USD</td>\n",
       "      <td>144854</td>\n",
       "      <td>US</td>\n",
       "      <td>100</td>\n",
       "      <td>US</td>\n",
       "      <td>M</td>\n",
       "    </tr>\n",
       "    <tr>\n",
       "      <th>592</th>\n",
       "      <td>592</td>\n",
       "      <td>2022</td>\n",
       "      <td>SE</td>\n",
       "      <td>FT</td>\n",
       "      <td>Data Scientist</td>\n",
       "      <td>230000</td>\n",
       "      <td>USD</td>\n",
       "      <td>230000</td>\n",
       "      <td>US</td>\n",
       "      <td>100</td>\n",
       "      <td>US</td>\n",
       "      <td>M</td>\n",
       "    </tr>\n",
       "    <tr>\n",
       "      <th>593</th>\n",
       "      <td>593</td>\n",
       "      <td>2022</td>\n",
       "      <td>SE</td>\n",
       "      <td>FT</td>\n",
       "      <td>Data Scientist</td>\n",
       "      <td>150000</td>\n",
       "      <td>USD</td>\n",
       "      <td>150000</td>\n",
       "      <td>US</td>\n",
       "      <td>100</td>\n",
       "      <td>US</td>\n",
       "      <td>M</td>\n",
       "    </tr>\n",
       "    <tr>\n",
       "      <th>594</th>\n",
       "      <td>594</td>\n",
       "      <td>2022</td>\n",
       "      <td>SE</td>\n",
       "      <td>FT</td>\n",
       "      <td>Data Analytics Manager</td>\n",
       "      <td>150260</td>\n",
       "      <td>USD</td>\n",
       "      <td>150260</td>\n",
       "      <td>US</td>\n",
       "      <td>100</td>\n",
       "      <td>US</td>\n",
       "      <td>M</td>\n",
       "    </tr>\n",
       "    <tr>\n",
       "      <th>595</th>\n",
       "      <td>595</td>\n",
       "      <td>2022</td>\n",
       "      <td>SE</td>\n",
       "      <td>FT</td>\n",
       "      <td>Data Analytics Manager</td>\n",
       "      <td>109280</td>\n",
       "      <td>USD</td>\n",
       "      <td>109280</td>\n",
       "      <td>US</td>\n",
       "      <td>100</td>\n",
       "      <td>US</td>\n",
       "      <td>M</td>\n",
       "    </tr>\n",
       "    <tr>\n",
       "      <th>596</th>\n",
       "      <td>596</td>\n",
       "      <td>2022</td>\n",
       "      <td>SE</td>\n",
       "      <td>FT</td>\n",
       "      <td>Data Scientist</td>\n",
       "      <td>210000</td>\n",
       "      <td>USD</td>\n",
       "      <td>210000</td>\n",
       "      <td>US</td>\n",
       "      <td>100</td>\n",
       "      <td>US</td>\n",
       "      <td>M</td>\n",
       "    </tr>\n",
       "    <tr>\n",
       "      <th>597</th>\n",
       "      <td>597</td>\n",
       "      <td>2022</td>\n",
       "      <td>SE</td>\n",
       "      <td>FT</td>\n",
       "      <td>Data Analyst</td>\n",
       "      <td>170000</td>\n",
       "      <td>USD</td>\n",
       "      <td>170000</td>\n",
       "      <td>US</td>\n",
       "      <td>100</td>\n",
       "      <td>US</td>\n",
       "      <td>M</td>\n",
       "    </tr>\n",
       "    <tr>\n",
       "      <th>598</th>\n",
       "      <td>598</td>\n",
       "      <td>2022</td>\n",
       "      <td>MI</td>\n",
       "      <td>FT</td>\n",
       "      <td>Data Scientist</td>\n",
       "      <td>160000</td>\n",
       "      <td>USD</td>\n",
       "      <td>160000</td>\n",
       "      <td>US</td>\n",
       "      <td>100</td>\n",
       "      <td>US</td>\n",
       "      <td>M</td>\n",
       "    </tr>\n",
       "    <tr>\n",
       "      <th>599</th>\n",
       "      <td>599</td>\n",
       "      <td>2022</td>\n",
       "      <td>MI</td>\n",
       "      <td>FT</td>\n",
       "      <td>Data Scientist</td>\n",
       "      <td>130000</td>\n",
       "      <td>USD</td>\n",
       "      <td>130000</td>\n",
       "      <td>US</td>\n",
       "      <td>100</td>\n",
       "      <td>US</td>\n",
       "      <td>M</td>\n",
       "    </tr>\n",
       "    <tr>\n",
       "      <th>600</th>\n",
       "      <td>600</td>\n",
       "      <td>2022</td>\n",
       "      <td>EN</td>\n",
       "      <td>FT</td>\n",
       "      <td>Data Analyst</td>\n",
       "      <td>67000</td>\n",
       "      <td>USD</td>\n",
       "      <td>67000</td>\n",
       "      <td>CA</td>\n",
       "      <td>0</td>\n",
       "      <td>CA</td>\n",
       "      <td>M</td>\n",
       "    </tr>\n",
       "    <tr>\n",
       "      <th>601</th>\n",
       "      <td>601</td>\n",
       "      <td>2022</td>\n",
       "      <td>EN</td>\n",
       "      <td>FT</td>\n",
       "      <td>Data Analyst</td>\n",
       "      <td>52000</td>\n",
       "      <td>USD</td>\n",
       "      <td>52000</td>\n",
       "      <td>CA</td>\n",
       "      <td>0</td>\n",
       "      <td>CA</td>\n",
       "      <td>M</td>\n",
       "    </tr>\n",
       "    <tr>\n",
       "      <th>602</th>\n",
       "      <td>602</td>\n",
       "      <td>2022</td>\n",
       "      <td>SE</td>\n",
       "      <td>FT</td>\n",
       "      <td>Data Engineer</td>\n",
       "      <td>154000</td>\n",
       "      <td>USD</td>\n",
       "      <td>154000</td>\n",
       "      <td>US</td>\n",
       "      <td>100</td>\n",
       "      <td>US</td>\n",
       "      <td>M</td>\n",
       "    </tr>\n",
       "    <tr>\n",
       "      <th>603</th>\n",
       "      <td>603</td>\n",
       "      <td>2022</td>\n",
       "      <td>SE</td>\n",
       "      <td>FT</td>\n",
       "      <td>Data Engineer</td>\n",
       "      <td>126000</td>\n",
       "      <td>USD</td>\n",
       "      <td>126000</td>\n",
       "      <td>US</td>\n",
       "      <td>100</td>\n",
       "      <td>US</td>\n",
       "      <td>M</td>\n",
       "    </tr>\n",
       "    <tr>\n",
       "      <th>604</th>\n",
       "      <td>604</td>\n",
       "      <td>2022</td>\n",
       "      <td>SE</td>\n",
       "      <td>FT</td>\n",
       "      <td>Data Analyst</td>\n",
       "      <td>129000</td>\n",
       "      <td>USD</td>\n",
       "      <td>129000</td>\n",
       "      <td>US</td>\n",
       "      <td>0</td>\n",
       "      <td>US</td>\n",
       "      <td>M</td>\n",
       "    </tr>\n",
       "    <tr>\n",
       "      <th>605</th>\n",
       "      <td>605</td>\n",
       "      <td>2022</td>\n",
       "      <td>SE</td>\n",
       "      <td>FT</td>\n",
       "      <td>Data Analyst</td>\n",
       "      <td>150000</td>\n",
       "      <td>USD</td>\n",
       "      <td>150000</td>\n",
       "      <td>US</td>\n",
       "      <td>100</td>\n",
       "      <td>US</td>\n",
       "      <td>M</td>\n",
       "    </tr>\n",
       "    <tr>\n",
       "      <th>606</th>\n",
       "      <td>606</td>\n",
       "      <td>2022</td>\n",
       "      <td>MI</td>\n",
       "      <td>FT</td>\n",
       "      <td>AI Scientist</td>\n",
       "      <td>200000</td>\n",
       "      <td>USD</td>\n",
       "      <td>200000</td>\n",
       "      <td>IN</td>\n",
       "      <td>100</td>\n",
       "      <td>US</td>\n",
       "      <td>L</td>\n",
       "    </tr>\n",
       "  </tbody>\n",
       "</table>\n",
       "<p>607 rows × 12 columns</p>\n",
       "</div>"
      ],
      "text/plain": [
       "     Unnamed: 0  work_year experience_level employment_type  \\\n",
       "0             0       2020               MI              FT   \n",
       "1             1       2020               SE              FT   \n",
       "2             2       2020               SE              FT   \n",
       "3             3       2020               MI              FT   \n",
       "4             4       2020               SE              FT   \n",
       "5             5       2020               EN              FT   \n",
       "6             6       2020               SE              FT   \n",
       "7             7       2020               MI              FT   \n",
       "8             8       2020               MI              FT   \n",
       "9             9       2020               SE              FT   \n",
       "10           10       2020               EN              FT   \n",
       "11           11       2020               MI              FT   \n",
       "12           12       2020               EN              FT   \n",
       "13           13       2020               MI              FT   \n",
       "14           14       2020               MI              FT   \n",
       "15           15       2020               MI              FT   \n",
       "16           16       2020               EN              FT   \n",
       "17           17       2020               SE              FT   \n",
       "18           18       2020               EN              FT   \n",
       "19           19       2020               MI              FT   \n",
       "20           20       2020               MI              FT   \n",
       "21           21       2020               MI              FT   \n",
       "22           22       2020               SE              FT   \n",
       "23           23       2020               MI              FT   \n",
       "24           24       2020               MI              FT   \n",
       "25           25       2020               EX              FT   \n",
       "26           26       2020               EN              FT   \n",
       "27           27       2020               SE              FT   \n",
       "28           28       2020               EN              CT   \n",
       "29           29       2020               SE              FT   \n",
       "..          ...        ...              ...             ...   \n",
       "577         577       2022               SE              FT   \n",
       "578         578       2022               SE              FT   \n",
       "579         579       2022               SE              FT   \n",
       "580         580       2022               SE              FT   \n",
       "581         581       2022               SE              FT   \n",
       "582         582       2022               SE              FT   \n",
       "583         583       2022               SE              FT   \n",
       "584         584       2022               SE              FT   \n",
       "585         585       2022               SE              FT   \n",
       "586         586       2022               MI              FT   \n",
       "587         587       2022               SE              FT   \n",
       "588         588       2022               SE              FT   \n",
       "589         589       2022               SE              FT   \n",
       "590         590       2022               SE              FT   \n",
       "591         591       2022               SE              FT   \n",
       "592         592       2022               SE              FT   \n",
       "593         593       2022               SE              FT   \n",
       "594         594       2022               SE              FT   \n",
       "595         595       2022               SE              FT   \n",
       "596         596       2022               SE              FT   \n",
       "597         597       2022               SE              FT   \n",
       "598         598       2022               MI              FT   \n",
       "599         599       2022               MI              FT   \n",
       "600         600       2022               EN              FT   \n",
       "601         601       2022               EN              FT   \n",
       "602         602       2022               SE              FT   \n",
       "603         603       2022               SE              FT   \n",
       "604         604       2022               SE              FT   \n",
       "605         605       2022               SE              FT   \n",
       "606         606       2022               MI              FT   \n",
       "\n",
       "                      job_title    salary salary_currency  salary_in_usd  \\\n",
       "0                Data Scientist     70000             EUR          79833   \n",
       "1    Machine Learning Scientist    260000             USD         260000   \n",
       "2             Big Data Engineer     85000             GBP         109024   \n",
       "3          Product Data Analyst     20000             USD          20000   \n",
       "4     Machine Learning Engineer    150000             USD         150000   \n",
       "5                  Data Analyst     72000             USD          72000   \n",
       "6           Lead Data Scientist    190000             USD         190000   \n",
       "7                Data Scientist  11000000             HUF          35735   \n",
       "8         Business Data Analyst    135000             USD         135000   \n",
       "9            Lead Data Engineer    125000             USD         125000   \n",
       "10               Data Scientist     45000             EUR          51321   \n",
       "11               Data Scientist   3000000             INR          40481   \n",
       "12               Data Scientist     35000             EUR          39916   \n",
       "13            Lead Data Analyst     87000             USD          87000   \n",
       "14                 Data Analyst     85000             USD          85000   \n",
       "15                 Data Analyst      8000             USD           8000   \n",
       "16                Data Engineer   4450000             JPY          41689   \n",
       "17            Big Data Engineer    100000             EUR         114047   \n",
       "18      Data Science Consultant    423000             INR           5707   \n",
       "19           Lead Data Engineer     56000             USD          56000   \n",
       "20    Machine Learning Engineer    299000             CNY          43331   \n",
       "21         Product Data Analyst    450000             INR           6072   \n",
       "22                Data Engineer     42000             EUR          47899   \n",
       "23              BI Data Analyst     98000             USD          98000   \n",
       "24          Lead Data Scientist    115000             USD         115000   \n",
       "25     Director of Data Science    325000             USD         325000   \n",
       "26           Research Scientist     42000             USD          42000   \n",
       "27                Data Engineer    720000             MXN          33511   \n",
       "28        Business Data Analyst    100000             USD         100000   \n",
       "29     Machine Learning Manager    157000             CAD         117104   \n",
       "..                          ...       ...             ...            ...   \n",
       "577                Data Analyst    150075             USD         150075   \n",
       "578               Data Engineer    100000             USD         100000   \n",
       "579               Data Engineer     25000             USD          25000   \n",
       "580                Data Analyst    126500             USD         126500   \n",
       "581                Data Analyst    106260             USD         106260   \n",
       "582               Data Engineer    220110             USD         220110   \n",
       "583               Data Engineer    160080             USD         160080   \n",
       "584                Data Analyst    105000             USD         105000   \n",
       "585                Data Analyst    110925             USD         110925   \n",
       "586                Data Analyst     35000             GBP          45807   \n",
       "587              Data Scientist    140000             USD         140000   \n",
       "588                Data Analyst     99000             USD          99000   \n",
       "589                Data Analyst     60000             USD          60000   \n",
       "590              Data Architect    192564             USD         192564   \n",
       "591              Data Architect    144854             USD         144854   \n",
       "592              Data Scientist    230000             USD         230000   \n",
       "593              Data Scientist    150000             USD         150000   \n",
       "594      Data Analytics Manager    150260             USD         150260   \n",
       "595      Data Analytics Manager    109280             USD         109280   \n",
       "596              Data Scientist    210000             USD         210000   \n",
       "597                Data Analyst    170000             USD         170000   \n",
       "598              Data Scientist    160000             USD         160000   \n",
       "599              Data Scientist    130000             USD         130000   \n",
       "600                Data Analyst     67000             USD          67000   \n",
       "601                Data Analyst     52000             USD          52000   \n",
       "602               Data Engineer    154000             USD         154000   \n",
       "603               Data Engineer    126000             USD         126000   \n",
       "604                Data Analyst    129000             USD         129000   \n",
       "605                Data Analyst    150000             USD         150000   \n",
       "606                AI Scientist    200000             USD         200000   \n",
       "\n",
       "    employee_residence  remote_ratio company_location company_size  \n",
       "0                   DE             0               DE            L  \n",
       "1                   JP             0               JP            S  \n",
       "2                   GB            50               GB            M  \n",
       "3                   HN             0               HN            S  \n",
       "4                   US            50               US            L  \n",
       "5                   US           100               US            L  \n",
       "6                   US           100               US            S  \n",
       "7                   HU            50               HU            L  \n",
       "8                   US           100               US            L  \n",
       "9                   NZ            50               NZ            S  \n",
       "10                  FR             0               FR            S  \n",
       "11                  IN             0               IN            L  \n",
       "12                  FR             0               FR            M  \n",
       "13                  US           100               US            L  \n",
       "14                  US           100               US            L  \n",
       "15                  PK            50               PK            L  \n",
       "16                  JP           100               JP            S  \n",
       "17                  PL           100               GB            S  \n",
       "18                  IN            50               IN            M  \n",
       "19                  PT           100               US            M  \n",
       "20                  CN             0               CN            M  \n",
       "21                  IN           100               IN            L  \n",
       "22                  GR            50               GR            L  \n",
       "23                  US             0               US            M  \n",
       "24                  AE             0               AE            L  \n",
       "25                  US           100               US            L  \n",
       "26                  NL            50               NL            L  \n",
       "27                  MX             0               MX            S  \n",
       "28                  US           100               US            L  \n",
       "29                  CA            50               CA            L  \n",
       "..                 ...           ...              ...          ...  \n",
       "577                 US           100               US            M  \n",
       "578                 US           100               US            M  \n",
       "579                 US           100               US            M  \n",
       "580                 US           100               US            M  \n",
       "581                 US           100               US            M  \n",
       "582                 US           100               US            M  \n",
       "583                 US           100               US            M  \n",
       "584                 US           100               US            M  \n",
       "585                 US           100               US            M  \n",
       "586                 GB             0               GB            M  \n",
       "587                 US           100               US            M  \n",
       "588                 US             0               US            M  \n",
       "589                 US           100               US            M  \n",
       "590                 US           100               US            M  \n",
       "591                 US           100               US            M  \n",
       "592                 US           100               US            M  \n",
       "593                 US           100               US            M  \n",
       "594                 US           100               US            M  \n",
       "595                 US           100               US            M  \n",
       "596                 US           100               US            M  \n",
       "597                 US           100               US            M  \n",
       "598                 US           100               US            M  \n",
       "599                 US           100               US            M  \n",
       "600                 CA             0               CA            M  \n",
       "601                 CA             0               CA            M  \n",
       "602                 US           100               US            M  \n",
       "603                 US           100               US            M  \n",
       "604                 US             0               US            M  \n",
       "605                 US           100               US            M  \n",
       "606                 IN           100               US            L  \n",
       "\n",
       "[607 rows x 12 columns]"
      ]
     },
     "execution_count": 10,
     "metadata": {},
     "output_type": "execute_result"
    }
   ],
   "source": [
    "salary"
   ]
  },
  {
   "cell_type": "markdown",
   "metadata": {},
   "source": [
    "---"
   ]
  },
  {
   "cell_type": "markdown",
   "metadata": {},
   "source": [
    "## Drop unwanted column"
   ]
  },
  {
   "cell_type": "code",
   "execution_count": null,
   "metadata": {
    "execution": {
     "iopub.execute_input": "2022-07-15T08:46:29.983372Z",
     "iopub.status.busy": "2022-07-15T08:46:29.982552Z",
     "iopub.status.idle": "2022-07-15T08:46:29.988897Z",
     "shell.execute_reply": "2022-07-15T08:46:29.987944Z",
     "shell.execute_reply.started": "2022-07-15T08:46:29.983335Z"
    }
   },
   "outputs": [],
   "source": [
    "salary.drop('Unnamed: 0', axis=1, inplace=True)"
   ]
  },
  {
   "cell_type": "code",
   "execution_count": null,
   "metadata": {
    "execution": {
     "iopub.execute_input": "2022-07-15T08:46:29.990945Z",
     "iopub.status.busy": "2022-07-15T08:46:29.990347Z",
     "iopub.status.idle": "2022-07-15T08:46:30.018962Z",
     "shell.execute_reply": "2022-07-15T08:46:30.018006Z",
     "shell.execute_reply.started": "2022-07-15T08:46:29.990913Z"
    }
   },
   "outputs": [],
   "source": [
    "salary"
   ]
  },
  {
   "cell_type": "markdown",
   "metadata": {},
   "source": [
    "---"
   ]
  },
  {
   "cell_type": "markdown",
   "metadata": {},
   "source": [
    "# Checking Dataset"
   ]
  },
  {
   "cell_type": "code",
   "execution_count": null,
   "metadata": {
    "execution": {
     "iopub.execute_input": "2022-07-15T08:46:30.021648Z",
     "iopub.status.busy": "2022-07-15T08:46:30.020851Z",
     "iopub.status.idle": "2022-07-15T08:46:30.033622Z",
     "shell.execute_reply": "2022-07-15T08:46:30.032274Z",
     "shell.execute_reply.started": "2022-07-15T08:46:30.021612Z"
    }
   },
   "outputs": [],
   "source": [
    "salary.isnull().sum()"
   ]
  },
  {
   "cell_type": "code",
   "execution_count": null,
   "metadata": {
    "execution": {
     "iopub.execute_input": "2022-07-15T08:46:30.035887Z",
     "iopub.status.busy": "2022-07-15T08:46:30.034996Z",
     "iopub.status.idle": "2022-07-15T08:46:30.051155Z",
     "shell.execute_reply": "2022-07-15T08:46:30.050025Z",
     "shell.execute_reply.started": "2022-07-15T08:46:30.035853Z"
    }
   },
   "outputs": [],
   "source": [
    "salary.info()"
   ]
  },
  {
   "cell_type": "code",
   "execution_count": null,
   "metadata": {
    "execution": {
     "iopub.execute_input": "2022-07-15T08:46:30.053087Z",
     "iopub.status.busy": "2022-07-15T08:46:30.052464Z",
     "iopub.status.idle": "2022-07-15T08:46:30.059312Z",
     "shell.execute_reply": "2022-07-15T08:46:30.058247Z",
     "shell.execute_reply.started": "2022-07-15T08:46:30.053053Z"
    }
   },
   "outputs": [],
   "source": [
    "salary.shape"
   ]
  },
  {
   "cell_type": "markdown",
   "metadata": {},
   "source": [
    "---"
   ]
  },
  {
   "cell_type": "markdown",
   "metadata": {},
   "source": [
    "**Average of Data Science Job Salaries (USD)**"
   ]
  },
  {
   "cell_type": "code",
   "execution_count": null,
   "metadata": {
    "execution": {
     "iopub.execute_input": "2022-07-15T08:46:30.061302Z",
     "iopub.status.busy": "2022-07-15T08:46:30.06084Z",
     "iopub.status.idle": "2022-07-15T08:46:30.074217Z",
     "shell.execute_reply": "2022-07-15T08:46:30.072799Z",
     "shell.execute_reply.started": "2022-07-15T08:46:30.061268Z"
    }
   },
   "outputs": [],
   "source": [
    "salary['salary_in_usd'].mean()"
   ]
  },
  {
   "cell_type": "markdown",
   "metadata": {},
   "source": [
    "**Maximum Data Science Job Salaries (USD)**"
   ]
  },
  {
   "cell_type": "code",
   "execution_count": null,
   "metadata": {
    "execution": {
     "iopub.execute_input": "2022-07-15T08:46:30.079942Z",
     "iopub.status.busy": "2022-07-15T08:46:30.078769Z",
     "iopub.status.idle": "2022-07-15T08:46:30.087641Z",
     "shell.execute_reply": "2022-07-15T08:46:30.086646Z",
     "shell.execute_reply.started": "2022-07-15T08:46:30.079902Z"
    }
   },
   "outputs": [],
   "source": [
    "salary['salary_in_usd'].max()"
   ]
  },
  {
   "cell_type": "markdown",
   "metadata": {},
   "source": [
    "**Minimum Data Science Job Salaries (USD)**"
   ]
  },
  {
   "cell_type": "code",
   "execution_count": null,
   "metadata": {
    "execution": {
     "iopub.execute_input": "2022-07-15T08:46:30.089865Z",
     "iopub.status.busy": "2022-07-15T08:46:30.089253Z",
     "iopub.status.idle": "2022-07-15T08:46:30.101024Z",
     "shell.execute_reply": "2022-07-15T08:46:30.099788Z",
     "shell.execute_reply.started": "2022-07-15T08:46:30.08983Z"
    }
   },
   "outputs": [],
   "source": [
    "salary['salary_in_usd'].min()"
   ]
  },
  {
   "cell_type": "markdown",
   "metadata": {},
   "source": [
    "**Information of people who get the most Salaries (USD)**"
   ]
  },
  {
   "cell_type": "code",
   "execution_count": null,
   "metadata": {
    "execution": {
     "iopub.execute_input": "2022-07-15T08:46:30.103331Z",
     "iopub.status.busy": "2022-07-15T08:46:30.102838Z",
     "iopub.status.idle": "2022-07-15T08:46:30.123427Z",
     "shell.execute_reply": "2022-07-15T08:46:30.122514Z",
     "shell.execute_reply.started": "2022-07-15T08:46:30.103283Z"
    }
   },
   "outputs": [],
   "source": [
    "salary[salary['salary_in_usd'] == salary['salary_in_usd'].max()]"
   ]
  },
  {
   "cell_type": "markdown",
   "metadata": {},
   "source": [
    "**Information of people who get the least Salaries (USD)**"
   ]
  },
  {
   "cell_type": "code",
   "execution_count": null,
   "metadata": {
    "execution": {
     "iopub.execute_input": "2022-07-15T08:46:30.125349Z",
     "iopub.status.busy": "2022-07-15T08:46:30.124846Z",
     "iopub.status.idle": "2022-07-15T08:46:30.141566Z",
     "shell.execute_reply": "2022-07-15T08:46:30.140773Z",
     "shell.execute_reply.started": "2022-07-15T08:46:30.125317Z"
    },
    "scrolled": true
   },
   "outputs": [],
   "source": [
    "salary[salary['salary_in_usd'] == salary['salary_in_usd'].min()]"
   ]
  },
  {
   "cell_type": "markdown",
   "metadata": {},
   "source": [
    "# ------Additional analysis with graph---------"
   ]
  },
  {
   "cell_type": "markdown",
   "metadata": {},
   "source": [
    "**Amount of data kept in years**"
   ]
  },
  {
   "cell_type": "code",
   "execution_count": null,
   "metadata": {
    "execution": {
     "iopub.execute_input": "2022-07-15T08:46:30.14341Z",
     "iopub.status.busy": "2022-07-15T08:46:30.142941Z",
     "iopub.status.idle": "2022-07-15T08:46:30.151768Z",
     "shell.execute_reply": "2022-07-15T08:46:30.150547Z",
     "shell.execute_reply.started": "2022-07-15T08:46:30.14338Z"
    }
   },
   "outputs": [],
   "source": [
    "salary['work_year'].value_counts()"
   ]
  },
  {
   "cell_type": "code",
   "execution_count": null,
   "metadata": {
    "execution": {
     "iopub.execute_input": "2022-07-15T08:46:30.155041Z",
     "iopub.status.busy": "2022-07-15T08:46:30.153914Z",
     "iopub.status.idle": "2022-07-15T08:46:30.331948Z",
     "shell.execute_reply": "2022-07-15T08:46:30.330925Z",
     "shell.execute_reply.started": "2022-07-15T08:46:30.154992Z"
    }
   },
   "outputs": [],
   "source": [
    "sns.countplot(x='work_year',data=salary)"
   ]
  },
  {
   "cell_type": "markdown",
   "metadata": {},
   "source": [
    "**Data Science Job Average Salaries Per Year (USD)**"
   ]
  },
  {
   "cell_type": "code",
   "execution_count": null,
   "metadata": {
    "execution": {
     "iopub.execute_input": "2022-07-15T08:46:30.334349Z",
     "iopub.status.busy": "2022-07-15T08:46:30.333487Z",
     "iopub.status.idle": "2022-07-15T08:46:30.353982Z",
     "shell.execute_reply": "2022-07-15T08:46:30.352491Z",
     "shell.execute_reply.started": "2022-07-15T08:46:30.334298Z"
    }
   },
   "outputs": [],
   "source": [
    "salary_per_year = salary.groupby('work_year').mean()['salary_in_usd'].reset_index().sort_values(by='salary_in_usd')\n",
    "salary_per_year"
   ]
  },
  {
   "cell_type": "code",
   "execution_count": null,
   "metadata": {
    "execution": {
     "iopub.execute_input": "2022-07-15T08:46:30.355887Z",
     "iopub.status.busy": "2022-07-15T08:46:30.355497Z",
     "iopub.status.idle": "2022-07-15T08:46:30.520176Z",
     "shell.execute_reply": "2022-07-15T08:46:30.518915Z",
     "shell.execute_reply.started": "2022-07-15T08:46:30.355854Z"
    }
   },
   "outputs": [],
   "source": [
    "plt.figure(figsize=(12,6))\n",
    "plt.title(\"Average Salary of Data Science Jobs per Year\")\n",
    "sns.barplot(x=salary_per_year['work_year'], y=salary_per_year['salary_in_usd'])\n",
    "plt.xlabel(\"Year\")\n",
    "plt.ylabel(\"Number of Average Salary in USD\")"
   ]
  },
  {
   "cell_type": "code",
   "execution_count": null,
   "metadata": {
    "execution": {
     "iopub.execute_input": "2022-07-15T08:46:30.526106Z",
     "iopub.status.busy": "2022-07-15T08:46:30.524922Z",
     "iopub.status.idle": "2022-07-15T08:46:30.809001Z",
     "shell.execute_reply": "2022-07-15T08:46:30.807746Z",
     "shell.execute_reply.started": "2022-07-15T08:46:30.526052Z"
    }
   },
   "outputs": [],
   "source": [
    "sns.violinplot(x='work_year',y='salary_in_usd',data=salary,palette='rainbow')"
   ]
  },
  {
   "cell_type": "markdown",
   "metadata": {},
   "source": [
    "The amount of salary is gaining every year."
   ]
  },
  {
   "cell_type": "code",
   "execution_count": null,
   "metadata": {
    "execution": {
     "iopub.execute_input": "2022-07-15T08:46:30.810673Z",
     "iopub.status.busy": "2022-07-15T08:46:30.810337Z",
     "iopub.status.idle": "2022-07-15T08:46:31.084862Z",
     "shell.execute_reply": "2022-07-15T08:46:31.083532Z",
     "shell.execute_reply.started": "2022-07-15T08:46:30.810641Z"
    }
   },
   "outputs": [],
   "source": [
    "sns.distplot(salary['salary_in_usd'])"
   ]
  },
  {
   "cell_type": "markdown",
   "metadata": {},
   "source": [
    "The Average of Data Science Jobs Salary is around 100,000 USD"
   ]
  },
  {
   "cell_type": "markdown",
   "metadata": {},
   "source": [
    "**Amount of Data Science Job Titles**"
   ]
  },
  {
   "cell_type": "code",
   "execution_count": null,
   "metadata": {
    "execution": {
     "iopub.execute_input": "2022-07-15T08:46:31.086945Z",
     "iopub.status.busy": "2022-07-15T08:46:31.086585Z",
     "iopub.status.idle": "2022-07-15T08:46:31.094664Z",
     "shell.execute_reply": "2022-07-15T08:46:31.093389Z",
     "shell.execute_reply.started": "2022-07-15T08:46:31.086914Z"
    }
   },
   "outputs": [],
   "source": [
    "salary['job_title'].nunique()"
   ]
  },
  {
   "cell_type": "markdown",
   "metadata": {},
   "source": [
    "**List of Data Science Job Titles**"
   ]
  },
  {
   "cell_type": "code",
   "execution_count": null,
   "metadata": {
    "execution": {
     "iopub.execute_input": "2022-07-15T08:46:31.09676Z",
     "iopub.status.busy": "2022-07-15T08:46:31.096283Z",
     "iopub.status.idle": "2022-07-15T08:46:31.109877Z",
     "shell.execute_reply": "2022-07-15T08:46:31.108663Z",
     "shell.execute_reply.started": "2022-07-15T08:46:31.096714Z"
    }
   },
   "outputs": [],
   "source": [
    "salary['job_title'].unique()"
   ]
  },
  {
   "cell_type": "markdown",
   "metadata": {},
   "source": [
    "**Top 10 most Data Science Jobs**"
   ]
  },
  {
   "cell_type": "code",
   "execution_count": null,
   "metadata": {
    "execution": {
     "iopub.execute_input": "2022-07-15T08:46:31.111556Z",
     "iopub.status.busy": "2022-07-15T08:46:31.111127Z",
     "iopub.status.idle": "2022-07-15T08:46:31.124301Z",
     "shell.execute_reply": "2022-07-15T08:46:31.122634Z",
     "shell.execute_reply.started": "2022-07-15T08:46:31.111516Z"
    }
   },
   "outputs": [],
   "source": [
    "salary['job_title'].value_counts().head(10)"
   ]
  },
  {
   "cell_type": "markdown",
   "metadata": {},
   "source": [
    "**Top 10 Highest Average of Data Science Jobs**"
   ]
  },
  {
   "cell_type": "code",
   "execution_count": null,
   "metadata": {
    "execution": {
     "iopub.execute_input": "2022-07-15T08:46:31.126439Z",
     "iopub.status.busy": "2022-07-15T08:46:31.125977Z",
     "iopub.status.idle": "2022-07-15T08:46:31.145443Z",
     "shell.execute_reply": "2022-07-15T08:46:31.144517Z",
     "shell.execute_reply.started": "2022-07-15T08:46:31.126393Z"
    }
   },
   "outputs": [],
   "source": [
    "salary.groupby('job_title').mean()['salary_in_usd'].reset_index().sort_values(['salary_in_usd'],ascending=False)\\\n",
    ".head(10)"
   ]
  },
  {
   "cell_type": "markdown",
   "metadata": {},
   "source": [
    "**Country of Company location that Data Science Employees are in**"
   ]
  },
  {
   "cell_type": "code",
   "execution_count": null,
   "metadata": {
    "execution": {
     "iopub.execute_input": "2022-07-15T08:46:31.147084Z",
     "iopub.status.busy": "2022-07-15T08:46:31.146778Z",
     "iopub.status.idle": "2022-07-15T08:46:31.155573Z",
     "shell.execute_reply": "2022-07-15T08:46:31.154596Z",
     "shell.execute_reply.started": "2022-07-15T08:46:31.147055Z"
    }
   },
   "outputs": [],
   "source": [
    "salary['company_location'].nunique()"
   ]
  },
  {
   "cell_type": "markdown",
   "metadata": {},
   "source": [
    "**Top 10 Country of Company location that Data Science Employees are in**"
   ]
  },
  {
   "cell_type": "code",
   "execution_count": null,
   "metadata": {
    "execution": {
     "iopub.execute_input": "2022-07-15T08:46:31.156792Z",
     "iopub.status.busy": "2022-07-15T08:46:31.156478Z",
     "iopub.status.idle": "2022-07-15T08:46:31.168359Z",
     "shell.execute_reply": "2022-07-15T08:46:31.167133Z",
     "shell.execute_reply.started": "2022-07-15T08:46:31.156764Z"
    }
   },
   "outputs": [],
   "source": [
    "salary['company_location'].value_counts().head(10)"
   ]
  },
  {
   "cell_type": "markdown",
   "metadata": {},
   "source": [
    "**Top 10 Data Science Job Titles in US**"
   ]
  },
  {
   "cell_type": "code",
   "execution_count": null,
   "metadata": {
    "execution": {
     "iopub.execute_input": "2022-07-15T08:46:31.170655Z",
     "iopub.status.busy": "2022-07-15T08:46:31.170201Z",
     "iopub.status.idle": "2022-07-15T08:46:31.184306Z",
     "shell.execute_reply": "2022-07-15T08:46:31.18314Z",
     "shell.execute_reply.started": "2022-07-15T08:46:31.170622Z"
    }
   },
   "outputs": [],
   "source": [
    "salary[(salary['company_location']=='US')]['job_title'].value_counts().head()"
   ]
  },
  {
   "cell_type": "code",
   "execution_count": null,
   "metadata": {
    "execution": {
     "iopub.execute_input": "2022-07-15T08:46:31.186216Z",
     "iopub.status.busy": "2022-07-15T08:46:31.185738Z",
     "iopub.status.idle": "2022-07-15T08:46:31.197317Z",
     "shell.execute_reply": "2022-07-15T08:46:31.196348Z",
     "shell.execute_reply.started": "2022-07-15T08:46:31.18618Z"
    }
   },
   "outputs": [],
   "source": [
    "salary['employee_residence'].value_counts().head(10)"
   ]
  },
  {
   "cell_type": "markdown",
   "metadata": {},
   "source": [
    "**Amount of Experience Level**"
   ]
  },
  {
   "cell_type": "code",
   "execution_count": null,
   "metadata": {
    "execution": {
     "iopub.execute_input": "2022-07-15T08:46:31.198593Z",
     "iopub.status.busy": "2022-07-15T08:46:31.198273Z",
     "iopub.status.idle": "2022-07-15T08:46:31.217054Z",
     "shell.execute_reply": "2022-07-15T08:46:31.216098Z",
     "shell.execute_reply.started": "2022-07-15T08:46:31.198563Z"
    }
   },
   "outputs": [],
   "source": [
    "salary['experience_level'].value_counts()"
   ]
  },
  {
   "cell_type": "code",
   "execution_count": null,
   "metadata": {
    "execution": {
     "iopub.execute_input": "2022-07-15T08:46:31.21971Z",
     "iopub.status.busy": "2022-07-15T08:46:31.218943Z",
     "iopub.status.idle": "2022-07-15T08:46:31.397818Z",
     "shell.execute_reply": "2022-07-15T08:46:31.396701Z",
     "shell.execute_reply.started": "2022-07-15T08:46:31.219652Z"
    }
   },
   "outputs": [],
   "source": [
    "sns.countplot(x='experience_level', data=salary)"
   ]
  },
  {
   "cell_type": "markdown",
   "metadata": {},
   "source": [
    "**Average Salary (USD) Based on Experience Level**"
   ]
  },
  {
   "cell_type": "code",
   "execution_count": null,
   "metadata": {
    "execution": {
     "iopub.execute_input": "2022-07-15T08:46:31.399591Z",
     "iopub.status.busy": "2022-07-15T08:46:31.399252Z",
     "iopub.status.idle": "2022-07-15T08:46:31.417645Z",
     "shell.execute_reply": "2022-07-15T08:46:31.416448Z",
     "shell.execute_reply.started": "2022-07-15T08:46:31.399559Z"
    }
   },
   "outputs": [],
   "source": [
    "explvl_sal = salary.groupby('experience_level').mean()['salary_in_usd'].reset_index().sort_values(['salary_in_usd'])\n",
    "explvl_sal"
   ]
  },
  {
   "cell_type": "code",
   "execution_count": null,
   "metadata": {
    "execution": {
     "iopub.execute_input": "2022-07-15T08:46:31.419771Z",
     "iopub.status.busy": "2022-07-15T08:46:31.419169Z",
     "iopub.status.idle": "2022-07-15T08:46:31.860199Z",
     "shell.execute_reply": "2022-07-15T08:46:31.859287Z",
     "shell.execute_reply.started": "2022-07-15T08:46:31.419729Z"
    }
   },
   "outputs": [],
   "source": [
    "plt.figure(figsize=(9,6))\n",
    "plt.title(\"Average Salary of Data Science Jobs by Experience Level\")\n",
    "sns.barplot(x=explvl_sal['experience_level'], y=explvl_sal['salary_in_usd'])\n",
    "plt.xlabel(\"Experience Level\")\n",
    "plt.ylabel(\"Number of Average Salary in USD\")"
   ]
  },
  {
   "cell_type": "markdown",
   "metadata": {},
   "source": [
    "**Amount of Employment Type**"
   ]
  },
  {
   "cell_type": "code",
   "execution_count": null,
   "metadata": {
    "execution": {
     "iopub.execute_input": "2022-07-15T08:46:31.86211Z",
     "iopub.status.busy": "2022-07-15T08:46:31.86122Z",
     "iopub.status.idle": "2022-07-15T08:46:31.872055Z",
     "shell.execute_reply": "2022-07-15T08:46:31.87089Z",
     "shell.execute_reply.started": "2022-07-15T08:46:31.862075Z"
    }
   },
   "outputs": [],
   "source": [
    "salary['employment_type'].value_counts()"
   ]
  },
  {
   "cell_type": "code",
   "execution_count": null,
   "metadata": {
    "execution": {
     "iopub.execute_input": "2022-07-15T08:46:31.874285Z",
     "iopub.status.busy": "2022-07-15T08:46:31.873312Z",
     "iopub.status.idle": "2022-07-15T08:46:32.047479Z",
     "shell.execute_reply": "2022-07-15T08:46:32.046253Z",
     "shell.execute_reply.started": "2022-07-15T08:46:31.874237Z"
    }
   },
   "outputs": [],
   "source": [
    "sns.countplot(x='employment_type', data=salary)"
   ]
  },
  {
   "cell_type": "markdown",
   "metadata": {},
   "source": [
    "**Amount of Company Size**"
   ]
  },
  {
   "cell_type": "code",
   "execution_count": null,
   "metadata": {
    "execution": {
     "iopub.execute_input": "2022-07-15T08:46:32.049265Z",
     "iopub.status.busy": "2022-07-15T08:46:32.04885Z",
     "iopub.status.idle": "2022-07-15T08:46:32.059207Z",
     "shell.execute_reply": "2022-07-15T08:46:32.057891Z",
     "shell.execute_reply.started": "2022-07-15T08:46:32.049232Z"
    }
   },
   "outputs": [],
   "source": [
    "salary['company_size'].value_counts()"
   ]
  },
  {
   "cell_type": "code",
   "execution_count": null,
   "metadata": {
    "execution": {
     "iopub.execute_input": "2022-07-15T08:46:32.060867Z",
     "iopub.status.busy": "2022-07-15T08:46:32.060511Z",
     "iopub.status.idle": "2022-07-15T08:46:32.230842Z",
     "shell.execute_reply": "2022-07-15T08:46:32.228892Z",
     "shell.execute_reply.started": "2022-07-15T08:46:32.060837Z"
    }
   },
   "outputs": [],
   "source": [
    "sns.countplot(x='company_size', data=salary)"
   ]
  },
  {
   "cell_type": "markdown",
   "metadata": {},
   "source": [
    "**Average Salary (USD) based on Company Size**"
   ]
  },
  {
   "cell_type": "code",
   "execution_count": null,
   "metadata": {
    "execution": {
     "iopub.execute_input": "2022-07-15T08:46:32.232599Z",
     "iopub.status.busy": "2022-07-15T08:46:32.232087Z",
     "iopub.status.idle": "2022-07-15T08:46:32.246947Z",
     "shell.execute_reply": "2022-07-15T08:46:32.245986Z",
     "shell.execute_reply.started": "2022-07-15T08:46:32.232566Z"
    }
   },
   "outputs": [],
   "source": [
    "mean_sal_com = salary.groupby('company_size').mean()['salary_in_usd'].reset_index()\n",
    "mean_sal_com"
   ]
  },
  {
   "cell_type": "code",
   "execution_count": null,
   "metadata": {
    "execution": {
     "iopub.execute_input": "2022-07-15T08:46:32.248875Z",
     "iopub.status.busy": "2022-07-15T08:46:32.248541Z",
     "iopub.status.idle": "2022-07-15T08:46:32.439948Z",
     "shell.execute_reply": "2022-07-15T08:46:32.438763Z",
     "shell.execute_reply.started": "2022-07-15T08:46:32.248845Z"
    }
   },
   "outputs": [],
   "source": [
    "plt.figure(figsize=(8,6))\n",
    "plt.title(\"Average Salary of Data Science Jobs by Company Size\")\n",
    "sns.barplot(x=mean_sal_com['company_size'], y=mean_sal_com['salary_in_usd'])\n",
    "plt.xlabel(\"Company Size\")\n",
    "plt.ylabel(\"Number of Average Salary in USD\")"
   ]
  },
  {
   "cell_type": "markdown",
   "metadata": {},
   "source": [
    "**Top 10 Countries that Have Most Averaged Data Science Job Salaries**"
   ]
  },
  {
   "cell_type": "code",
   "execution_count": null,
   "metadata": {
    "execution": {
     "iopub.execute_input": "2022-07-15T08:46:32.442402Z",
     "iopub.status.busy": "2022-07-15T08:46:32.441514Z",
     "iopub.status.idle": "2022-07-15T08:46:32.462413Z",
     "shell.execute_reply": "2022-07-15T08:46:32.461271Z",
     "shell.execute_reply.started": "2022-07-15T08:46:32.442364Z"
    }
   },
   "outputs": [],
   "source": [
    "ds_cntry_sal = salary.groupby('company_location').mean()['salary_in_usd'].reset_index().sort_values\\\n",
    "(['salary_in_usd'],ascending=False).head(10)\n",
    "ds_cntry_sal"
   ]
  },
  {
   "cell_type": "markdown",
   "metadata": {},
   "source": [
    "According from ISO 3166-1 country codes\n",
    "1. Russia\n",
    "2. USA\n",
    "3. New Zealand\n",
    "4. Israel\n",
    "5. Japan\n",
    "6. Australia\n",
    "7. United Arab Emirates\n",
    "8. Algeria\n",
    "9. Iraq\n",
    "10. Canada"
   ]
  },
  {
   "cell_type": "code",
   "execution_count": null,
   "metadata": {
    "execution": {
     "iopub.execute_input": "2022-07-15T08:46:32.464423Z",
     "iopub.status.busy": "2022-07-15T08:46:32.463894Z",
     "iopub.status.idle": "2022-07-15T08:46:32.690186Z",
     "shell.execute_reply": "2022-07-15T08:46:32.688925Z",
     "shell.execute_reply.started": "2022-07-15T08:46:32.464378Z"
    }
   },
   "outputs": [],
   "source": [
    "plt.figure(figsize=(14,6))\n",
    "plt.title(\"High Average Salary of Data Science Jobs by Country\")\n",
    "sns.barplot(x=ds_cntry_sal['company_location'], y=ds_cntry_sal['salary_in_usd'])\n",
    "plt.xlabel(\"Country\")\n",
    "plt.ylabel(\"Number of Average Salary in USD\")"
   ]
  },
  {
   "cell_type": "markdown",
   "metadata": {},
   "source": [
    "**Top 10 Countries that Have Least Averaged Data Science Job Salaries**"
   ]
  },
  {
   "cell_type": "code",
   "execution_count": null,
   "metadata": {
    "execution": {
     "iopub.execute_input": "2022-07-15T08:46:32.692961Z",
     "iopub.status.busy": "2022-07-15T08:46:32.691939Z",
     "iopub.status.idle": "2022-07-15T08:46:32.712612Z",
     "shell.execute_reply": "2022-07-15T08:46:32.711773Z",
     "shell.execute_reply.started": "2022-07-15T08:46:32.692914Z"
    }
   },
   "outputs": [],
   "source": [
    "ds_cntry_sal2 = salary.groupby('company_location').mean()['salary_in_usd'].reset_index().sort_values\\\n",
    "(['salary_in_usd'],ascending=True).head(10)\n",
    "ds_cntry_sal2"
   ]
  },
  {
   "cell_type": "markdown",
   "metadata": {},
   "source": [
    "According from ISO 3166-1 country codes\n",
    "1. Vietnam\n",
    "2. Iran\n",
    "3. Kenya\n",
    "4. Pakistan\n",
    "5. Ukraine\n",
    "6. Moldova\n",
    "7. American Samoa\n",
    "8. Brazil\n",
    "9. Honduras\n",
    "10. Turkey"
   ]
  },
  {
   "cell_type": "code",
   "execution_count": null,
   "metadata": {
    "execution": {
     "iopub.execute_input": "2022-07-15T08:46:32.718705Z",
     "iopub.status.busy": "2022-07-15T08:46:32.718068Z",
     "iopub.status.idle": "2022-07-15T08:46:32.935843Z",
     "shell.execute_reply": "2022-07-15T08:46:32.934527Z",
     "shell.execute_reply.started": "2022-07-15T08:46:32.718648Z"
    }
   },
   "outputs": [],
   "source": [
    "plt.figure(figsize=(14,6))\n",
    "plt.title(\"Least Average Salary of Data Science Jobs by Country\")\n",
    "sns.barplot(x=ds_cntry_sal2['company_location'], y=ds_cntry_sal2['salary_in_usd'])\n",
    "plt.xlabel(\"Country\")\n",
    "plt.ylabel(\"Number of Average Salary in USD\")"
   ]
  },
  {
   "cell_type": "markdown",
   "metadata": {},
   "source": [
    "**Amount of remote ratio work**"
   ]
  },
  {
   "cell_type": "code",
   "execution_count": null,
   "metadata": {
    "execution": {
     "iopub.execute_input": "2022-07-15T08:46:32.937231Z",
     "iopub.status.busy": "2022-07-15T08:46:32.936912Z",
     "iopub.status.idle": "2022-07-15T08:46:32.946579Z",
     "shell.execute_reply": "2022-07-15T08:46:32.945297Z",
     "shell.execute_reply.started": "2022-07-15T08:46:32.937202Z"
    }
   },
   "outputs": [],
   "source": [
    "salary['remote_ratio'].value_counts()"
   ]
  },
  {
   "cell_type": "code",
   "execution_count": null,
   "metadata": {
    "execution": {
     "iopub.execute_input": "2022-07-15T08:46:32.948356Z",
     "iopub.status.busy": "2022-07-15T08:46:32.947869Z",
     "iopub.status.idle": "2022-07-15T08:46:33.078623Z",
     "shell.execute_reply": "2022-07-15T08:46:33.077186Z",
     "shell.execute_reply.started": "2022-07-15T08:46:32.948324Z"
    }
   },
   "outputs": [],
   "source": [
    "sns.countplot(x='remote_ratio', data=salary)"
   ]
  }
 ],
 "metadata": {
  "kernelspec": {
   "display_name": "Python 3",
   "language": "python",
   "name": "python3"
  },
  "language_info": {
   "codemirror_mode": {
    "name": "ipython",
    "version": 3
   },
   "file_extension": ".py",
   "mimetype": "text/x-python",
   "name": "python",
   "nbconvert_exporter": "python",
   "pygments_lexer": "ipython3",
   "version": "3.7.3"
  }
 },
 "nbformat": 4,
 "nbformat_minor": 4
}
